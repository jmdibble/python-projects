{
 "cells": [
  {
   "cell_type": "code",
   "execution_count": 17,
   "metadata": {},
   "outputs": [
    {
     "name": "stdout",
     "output_type": "stream",
     "text": [
      "The ‘Neo-Banks’ Are Finally Having Their Moment\n",
      "\n",
      "Bradley on fintech: “_________”\n",
      "\n",
      "There Is No ‘Bitcoin’: What the SEC Doesn’t Get About Cryptocurrency\n",
      "\n",
      "Fintech World Forum 2018 (Nov 21-22, London)\n",
      "\n",
      "Webinar | Farmers and Chubb on Humanizing Claims with AI\n",
      "\n",
      "Asian Financial Forum (Jan 14-15, Hong Kong)\n",
      "\n",
      "Future Digital Finance 2019 (Feb 12-13, Omni Amelia Island, FL)\n",
      "\n",
      "Ten Iconic Moments From the Last 10 Years in Payments\n",
      "\n",
      "Four Out of Five Legacy Banking Firms Gone By 2030, Analysts Warn\n",
      "\n",
      "Digital Transformation in Banking Requires Complete Rewiring, Not Just Fresh Paint\n",
      "\n",
      "Chinese banks’ big tech threat\n",
      "\n",
      "Blockchain smart contracts are finally good for something in the real world\n",
      "\n",
      "Customer Due Diligence Concerns? A 5-Step Checklist Fix\n",
      "\n",
      "Leveraging Analytics: What information could better your bank?\n",
      "\n",
      "10 Technologies That Will Disrupt Financial Services In The Next 5 Years\n",
      "\n",
      "Regional banks are spending heavily on tech. Is it enough?\n",
      "\n",
      "You Snooze, You Lose: Insurers Make The Old Adage Literally True\n",
      "\n",
      "The Crypto Insurance Market May Total $6 Billion. That’s Nowhere Near Enough\n",
      "\n",
      "Video: How Bitcoin's Crash Compares to History's Biggest Bubbles\n",
      "\n"
     ]
    }
   ],
   "source": [
    "import requests\n",
    "from bs4 import BeautifulSoup as beaut\n",
    "\n",
    "r = requests.get(\"https://www.fintechweekly.com/fintech-news/fintech-news-issue-193#top-stories\")\n",
    "c = r.content\n",
    "\n",
    "soup = beaut(c, \"html.parser\")\n",
    "\n",
    "all = soup.find_all(\"div\",{\"class\":\"c-list__header\"})\n",
    "\n",
    "# print(all)\n",
    "\n",
    "for i in all:\n",
    "    print(i.find_all(\"h5\")[0].text)\n",
    "    print()\n",
    "\n"
   ]
  }
 ],
 "metadata": {
  "kernelspec": {
   "display_name": "Python 3",
   "language": "python",
   "name": "python3"
  },
  "language_info": {
   "codemirror_mode": {
    "name": "ipython",
    "version": 3
   },
   "file_extension": ".py",
   "mimetype": "text/x-python",
   "name": "python",
   "nbconvert_exporter": "python",
   "pygments_lexer": "ipython3",
   "version": "3.7.0"
  }
 },
 "nbformat": 4,
 "nbformat_minor": 2
}
